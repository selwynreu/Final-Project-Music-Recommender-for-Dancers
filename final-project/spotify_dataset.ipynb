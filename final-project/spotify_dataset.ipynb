{
 "cells": [
  {
   "cell_type": "code",
   "execution_count": 6,
   "metadata": {},
   "outputs": [
    {
     "name": "stdout",
     "output_type": "stream",
     "text": [
      "1: EASY - LE SSERAFIM\n",
      "2: Smart - LE SSERAFIM\n",
      "3: Fall In Love Again - P1Harmony\n",
      "4: Wife - (G)I-DLE\n",
      "5: Talk Saxy - RIIZE\n",
      "6: Chemistry (Prod. Czaer) - HYOLYN\n",
      "7: GODS - League of Legends\n",
      "8: Chili - HWASA\n",
      "9: Do not touch - MISAMO\n",
      "10: Seven (feat. Latto) - Jung Kook\n",
      "11: Cream Soda - EXO\n",
      "12: Super Shy - NewJeans\n",
      "13: MOVIE - JUNNY\n",
      "14: Eve, Psyche & The Bluebeard’s wife - LE SSERAFIM\n",
      "15: Midsummer Madness - 88rising\n",
      "16: I AM - IVE\n",
      "17: To My Youth - BOL4\n",
      "18: Unholy (feat. Kim Petras) - Sam Smith\n",
      "19: HALAZIA - ATEEZ\n",
      "20: Ditto - NewJeans\n"
     ]
    }
   ],
   "source": [
    "import spotipy\n",
    "from spotipy.oauth2 import SpotifyOAuth\n",
    "\n",
    "# Your Spotify API credentials\n",
    "client_id = 'SPOTIFY_CLIENT_ID'\n",
    "client_secret = 'SPOTIFY_CLIENT_SECRET'\n",
    "redirect_uri = 'http://localhost:8888/callback'  \n",
    "\n",
    "# Set up authentication\n",
    "scope = \"user-library-read\"  # Example scope, adjust based on your needs\n",
    "sp = spotipy.Spotify(auth_manager=SpotifyOAuth(client_id=client_id, \n",
    "                                               client_secret=client_secret, \n",
    "                                               redirect_uri=redirect_uri, \n",
    "                                               scope=scope))\n",
    "\n",
    "# Example: Get current user's saved tracks\n",
    "results = sp.current_user_saved_tracks()\n",
    "for idx, item in enumerate(results['items']):\n",
    "    track = item['track']\n",
    "    print(f\"{idx + 1}: {track['name']} - {track['artists'][0]['name']}\")\n"
   ]
  },
  {
   "cell_type": "code",
   "execution_count": 14,
   "metadata": {},
   "outputs": [
    {
     "name": "stdout",
     "output_type": "stream",
     "text": [
      "Track ID: 0Lmbke3KNVFXtoH2mMSHCw\n"
     ]
    }
   ],
   "source": [
    "import spotipy\n",
    "from spotipy.oauth2 import SpotifyClientCredentials\n",
    "\n",
    "client_credentials_manager = SpotifyClientCredentials(client_id='c7e4f36b99674158a7e12ec87a2653e8', client_secret='ceefc7a5b6e349d29629248832a46533')\n",
    "sp = spotipy.Spotify(client_credentials_manager=client_credentials_manager)\n",
    "\n",
    "# Search for the track\n",
    "track_name = \"The Boy Is Mine\"\n",
    "artist_name = \"Ariana Grande\"\n",
    "\n",
    "results = sp.search(q=f\"track:{track_name} artist:{artist_name}\", type='track')\n",
    "\n",
    "# Extract the track ID if it exists\n",
    "if results['tracks']['items']:\n",
    "    track_id = results['tracks']['items'][0]['id']\n",
    "    print(\"Track ID:\", track_id)\n",
    "else:\n",
    "    print(\"Track not found.\")"
   ]
  },
  {
   "cell_type": "code",
   "execution_count": 17,
   "metadata": {},
   "outputs": [
    {
     "name": "stderr",
     "output_type": "stream",
     "text": [
      "Max Retries reached\n"
     ]
    },
    {
     "ename": "SpotifyException",
     "evalue": "http status: 429, code:-1 - /v1/audio-features/?ids=0Lmbke3KNVFXtoH2mMSHCw:\n Max Retries, reason: too many 429 error responses",
     "output_type": "error",
     "traceback": [
      "\u001b[0;31m---------------------------------------------------------------------------\u001b[0m",
      "\u001b[0;31mMaxRetryError\u001b[0m                             Traceback (most recent call last)",
      "File \u001b[0;32m~/anaconda3/lib/python3.11/site-packages/requests/adapters.py:486\u001b[0m, in \u001b[0;36mHTTPAdapter.send\u001b[0;34m(self, request, stream, timeout, verify, cert, proxies)\u001b[0m\n\u001b[1;32m    485\u001b[0m \u001b[39mtry\u001b[39;00m:\n\u001b[0;32m--> 486\u001b[0m     resp \u001b[39m=\u001b[39m conn\u001b[39m.\u001b[39murlopen(\n\u001b[1;32m    487\u001b[0m         method\u001b[39m=\u001b[39mrequest\u001b[39m.\u001b[39mmethod,\n\u001b[1;32m    488\u001b[0m         url\u001b[39m=\u001b[39murl,\n\u001b[1;32m    489\u001b[0m         body\u001b[39m=\u001b[39mrequest\u001b[39m.\u001b[39mbody,\n\u001b[1;32m    490\u001b[0m         headers\u001b[39m=\u001b[39mrequest\u001b[39m.\u001b[39mheaders,\n\u001b[1;32m    491\u001b[0m         redirect\u001b[39m=\u001b[39m\u001b[39mFalse\u001b[39;00m,\n\u001b[1;32m    492\u001b[0m         assert_same_host\u001b[39m=\u001b[39m\u001b[39mFalse\u001b[39;00m,\n\u001b[1;32m    493\u001b[0m         preload_content\u001b[39m=\u001b[39m\u001b[39mFalse\u001b[39;00m,\n\u001b[1;32m    494\u001b[0m         decode_content\u001b[39m=\u001b[39m\u001b[39mFalse\u001b[39;00m,\n\u001b[1;32m    495\u001b[0m         retries\u001b[39m=\u001b[39m\u001b[39mself\u001b[39m\u001b[39m.\u001b[39mmax_retries,\n\u001b[1;32m    496\u001b[0m         timeout\u001b[39m=\u001b[39mtimeout,\n\u001b[1;32m    497\u001b[0m         chunked\u001b[39m=\u001b[39mchunked,\n\u001b[1;32m    498\u001b[0m     )\n\u001b[1;32m    500\u001b[0m \u001b[39mexcept\u001b[39;00m (ProtocolError, \u001b[39mOSError\u001b[39;00m) \u001b[39mas\u001b[39;00m err:\n",
      "File \u001b[0;32m~/anaconda3/lib/python3.11/site-packages/urllib3/connectionpool.py:889\u001b[0m, in \u001b[0;36mHTTPConnectionPool.urlopen\u001b[0;34m(self, method, url, body, headers, retries, redirect, assert_same_host, timeout, pool_timeout, release_conn, chunked, body_pos, **response_kw)\u001b[0m\n\u001b[1;32m    888\u001b[0m     log\u001b[39m.\u001b[39mdebug(\u001b[39m\"\u001b[39m\u001b[39mRetry: \u001b[39m\u001b[39m%s\u001b[39;00m\u001b[39m\"\u001b[39m, url)\n\u001b[0;32m--> 889\u001b[0m     \u001b[39mreturn\u001b[39;00m \u001b[39mself\u001b[39m\u001b[39m.\u001b[39murlopen(\n\u001b[1;32m    890\u001b[0m         method,\n\u001b[1;32m    891\u001b[0m         url,\n\u001b[1;32m    892\u001b[0m         body,\n\u001b[1;32m    893\u001b[0m         headers,\n\u001b[1;32m    894\u001b[0m         retries\u001b[39m=\u001b[39mretries,\n\u001b[1;32m    895\u001b[0m         redirect\u001b[39m=\u001b[39mredirect,\n\u001b[1;32m    896\u001b[0m         assert_same_host\u001b[39m=\u001b[39massert_same_host,\n\u001b[1;32m    897\u001b[0m         timeout\u001b[39m=\u001b[39mtimeout,\n\u001b[1;32m    898\u001b[0m         pool_timeout\u001b[39m=\u001b[39mpool_timeout,\n\u001b[1;32m    899\u001b[0m         release_conn\u001b[39m=\u001b[39mrelease_conn,\n\u001b[1;32m    900\u001b[0m         chunked\u001b[39m=\u001b[39mchunked,\n\u001b[1;32m    901\u001b[0m         body_pos\u001b[39m=\u001b[39mbody_pos,\n\u001b[1;32m    902\u001b[0m         \u001b[39m*\u001b[39m\u001b[39m*\u001b[39mresponse_kw\n\u001b[1;32m    903\u001b[0m     )\n\u001b[1;32m    905\u001b[0m \u001b[39mreturn\u001b[39;00m response\n",
      "File \u001b[0;32m~/anaconda3/lib/python3.11/site-packages/urllib3/connectionpool.py:889\u001b[0m, in \u001b[0;36mHTTPConnectionPool.urlopen\u001b[0;34m(self, method, url, body, headers, retries, redirect, assert_same_host, timeout, pool_timeout, release_conn, chunked, body_pos, **response_kw)\u001b[0m\n\u001b[1;32m    888\u001b[0m     log\u001b[39m.\u001b[39mdebug(\u001b[39m\"\u001b[39m\u001b[39mRetry: \u001b[39m\u001b[39m%s\u001b[39;00m\u001b[39m\"\u001b[39m, url)\n\u001b[0;32m--> 889\u001b[0m     \u001b[39mreturn\u001b[39;00m \u001b[39mself\u001b[39m\u001b[39m.\u001b[39murlopen(\n\u001b[1;32m    890\u001b[0m         method,\n\u001b[1;32m    891\u001b[0m         url,\n\u001b[1;32m    892\u001b[0m         body,\n\u001b[1;32m    893\u001b[0m         headers,\n\u001b[1;32m    894\u001b[0m         retries\u001b[39m=\u001b[39mretries,\n\u001b[1;32m    895\u001b[0m         redirect\u001b[39m=\u001b[39mredirect,\n\u001b[1;32m    896\u001b[0m         assert_same_host\u001b[39m=\u001b[39massert_same_host,\n\u001b[1;32m    897\u001b[0m         timeout\u001b[39m=\u001b[39mtimeout,\n\u001b[1;32m    898\u001b[0m         pool_timeout\u001b[39m=\u001b[39mpool_timeout,\n\u001b[1;32m    899\u001b[0m         release_conn\u001b[39m=\u001b[39mrelease_conn,\n\u001b[1;32m    900\u001b[0m         chunked\u001b[39m=\u001b[39mchunked,\n\u001b[1;32m    901\u001b[0m         body_pos\u001b[39m=\u001b[39mbody_pos,\n\u001b[1;32m    902\u001b[0m         \u001b[39m*\u001b[39m\u001b[39m*\u001b[39mresponse_kw\n\u001b[1;32m    903\u001b[0m     )\n\u001b[1;32m    905\u001b[0m \u001b[39mreturn\u001b[39;00m response\n",
      "File \u001b[0;32m~/anaconda3/lib/python3.11/site-packages/urllib3/connectionpool.py:889\u001b[0m, in \u001b[0;36mHTTPConnectionPool.urlopen\u001b[0;34m(self, method, url, body, headers, retries, redirect, assert_same_host, timeout, pool_timeout, release_conn, chunked, body_pos, **response_kw)\u001b[0m\n\u001b[1;32m    888\u001b[0m     log\u001b[39m.\u001b[39mdebug(\u001b[39m\"\u001b[39m\u001b[39mRetry: \u001b[39m\u001b[39m%s\u001b[39;00m\u001b[39m\"\u001b[39m, url)\n\u001b[0;32m--> 889\u001b[0m     \u001b[39mreturn\u001b[39;00m \u001b[39mself\u001b[39m\u001b[39m.\u001b[39murlopen(\n\u001b[1;32m    890\u001b[0m         method,\n\u001b[1;32m    891\u001b[0m         url,\n\u001b[1;32m    892\u001b[0m         body,\n\u001b[1;32m    893\u001b[0m         headers,\n\u001b[1;32m    894\u001b[0m         retries\u001b[39m=\u001b[39mretries,\n\u001b[1;32m    895\u001b[0m         redirect\u001b[39m=\u001b[39mredirect,\n\u001b[1;32m    896\u001b[0m         assert_same_host\u001b[39m=\u001b[39massert_same_host,\n\u001b[1;32m    897\u001b[0m         timeout\u001b[39m=\u001b[39mtimeout,\n\u001b[1;32m    898\u001b[0m         pool_timeout\u001b[39m=\u001b[39mpool_timeout,\n\u001b[1;32m    899\u001b[0m         release_conn\u001b[39m=\u001b[39mrelease_conn,\n\u001b[1;32m    900\u001b[0m         chunked\u001b[39m=\u001b[39mchunked,\n\u001b[1;32m    901\u001b[0m         body_pos\u001b[39m=\u001b[39mbody_pos,\n\u001b[1;32m    902\u001b[0m         \u001b[39m*\u001b[39m\u001b[39m*\u001b[39mresponse_kw\n\u001b[1;32m    903\u001b[0m     )\n\u001b[1;32m    905\u001b[0m \u001b[39mreturn\u001b[39;00m response\n",
      "File \u001b[0;32m~/anaconda3/lib/python3.11/site-packages/urllib3/connectionpool.py:879\u001b[0m, in \u001b[0;36mHTTPConnectionPool.urlopen\u001b[0;34m(self, method, url, body, headers, retries, redirect, assert_same_host, timeout, pool_timeout, release_conn, chunked, body_pos, **response_kw)\u001b[0m\n\u001b[1;32m    878\u001b[0m \u001b[39mtry\u001b[39;00m:\n\u001b[0;32m--> 879\u001b[0m     retries \u001b[39m=\u001b[39m retries\u001b[39m.\u001b[39mincrement(method, url, response\u001b[39m=\u001b[39mresponse, _pool\u001b[39m=\u001b[39m\u001b[39mself\u001b[39m)\n\u001b[1;32m    880\u001b[0m \u001b[39mexcept\u001b[39;00m MaxRetryError:\n",
      "File \u001b[0;32m~/anaconda3/lib/python3.11/site-packages/urllib3/util/retry.py:592\u001b[0m, in \u001b[0;36mRetry.increment\u001b[0;34m(self, method, url, response, error, _pool, _stacktrace)\u001b[0m\n\u001b[1;32m    591\u001b[0m \u001b[39mif\u001b[39;00m new_retry\u001b[39m.\u001b[39mis_exhausted():\n\u001b[0;32m--> 592\u001b[0m     \u001b[39mraise\u001b[39;00m MaxRetryError(_pool, url, error \u001b[39mor\u001b[39;00m ResponseError(cause))\n\u001b[1;32m    594\u001b[0m log\u001b[39m.\u001b[39mdebug(\u001b[39m\"\u001b[39m\u001b[39mIncremented Retry for (url=\u001b[39m\u001b[39m'\u001b[39m\u001b[39m%s\u001b[39;00m\u001b[39m'\u001b[39m\u001b[39m): \u001b[39m\u001b[39m%r\u001b[39;00m\u001b[39m\"\u001b[39m, url, new_retry)\n",
      "\u001b[0;31mMaxRetryError\u001b[0m: HTTPSConnectionPool(host='api.spotify.com', port=443): Max retries exceeded with url: /v1/audio-features/?ids=0Lmbke3KNVFXtoH2mMSHCw (Caused by ResponseError('too many 429 error responses'))",
      "\nDuring handling of the above exception, another exception occurred:\n",
      "\u001b[0;31mRetryError\u001b[0m                                Traceback (most recent call last)",
      "File \u001b[0;32m~/anaconda3/lib/python3.11/site-packages/spotipy/client.py:266\u001b[0m, in \u001b[0;36mSpotify._internal_call\u001b[0;34m(self, method, url, payload, params)\u001b[0m\n\u001b[1;32m    265\u001b[0m \u001b[39mtry\u001b[39;00m:\n\u001b[0;32m--> 266\u001b[0m     response \u001b[39m=\u001b[39m \u001b[39mself\u001b[39m\u001b[39m.\u001b[39m_session\u001b[39m.\u001b[39mrequest(\n\u001b[1;32m    267\u001b[0m         method, url, headers\u001b[39m=\u001b[39mheaders, proxies\u001b[39m=\u001b[39m\u001b[39mself\u001b[39m\u001b[39m.\u001b[39mproxies,\n\u001b[1;32m    268\u001b[0m         timeout\u001b[39m=\u001b[39m\u001b[39mself\u001b[39m\u001b[39m.\u001b[39mrequests_timeout, \u001b[39m*\u001b[39m\u001b[39m*\u001b[39margs\n\u001b[1;32m    269\u001b[0m     )\n\u001b[1;32m    271\u001b[0m     response\u001b[39m.\u001b[39mraise_for_status()\n",
      "File \u001b[0;32m~/anaconda3/lib/python3.11/site-packages/requests/sessions.py:589\u001b[0m, in \u001b[0;36mSession.request\u001b[0;34m(self, method, url, params, data, headers, cookies, files, auth, timeout, allow_redirects, proxies, hooks, stream, verify, cert, json)\u001b[0m\n\u001b[1;32m    588\u001b[0m send_kwargs\u001b[39m.\u001b[39mupdate(settings)\n\u001b[0;32m--> 589\u001b[0m resp \u001b[39m=\u001b[39m \u001b[39mself\u001b[39m\u001b[39m.\u001b[39msend(prep, \u001b[39m*\u001b[39m\u001b[39m*\u001b[39msend_kwargs)\n\u001b[1;32m    591\u001b[0m \u001b[39mreturn\u001b[39;00m resp\n",
      "File \u001b[0;32m~/anaconda3/lib/python3.11/site-packages/requests/sessions.py:703\u001b[0m, in \u001b[0;36mSession.send\u001b[0;34m(self, request, **kwargs)\u001b[0m\n\u001b[1;32m    702\u001b[0m \u001b[39m# Send the request\u001b[39;00m\n\u001b[0;32m--> 703\u001b[0m r \u001b[39m=\u001b[39m adapter\u001b[39m.\u001b[39msend(request, \u001b[39m*\u001b[39m\u001b[39m*\u001b[39mkwargs)\n\u001b[1;32m    705\u001b[0m \u001b[39m# Total elapsed time of the request (approximately)\u001b[39;00m\n",
      "File \u001b[0;32m~/anaconda3/lib/python3.11/site-packages/requests/adapters.py:510\u001b[0m, in \u001b[0;36mHTTPAdapter.send\u001b[0;34m(self, request, stream, timeout, verify, cert, proxies)\u001b[0m\n\u001b[1;32m    509\u001b[0m \u001b[39mif\u001b[39;00m \u001b[39misinstance\u001b[39m(e\u001b[39m.\u001b[39mreason, ResponseError):\n\u001b[0;32m--> 510\u001b[0m     \u001b[39mraise\u001b[39;00m RetryError(e, request\u001b[39m=\u001b[39mrequest)\n\u001b[1;32m    512\u001b[0m \u001b[39mif\u001b[39;00m \u001b[39misinstance\u001b[39m(e\u001b[39m.\u001b[39mreason, _ProxyError):\n",
      "\u001b[0;31mRetryError\u001b[0m: HTTPSConnectionPool(host='api.spotify.com', port=443): Max retries exceeded with url: /v1/audio-features/?ids=0Lmbke3KNVFXtoH2mMSHCw (Caused by ResponseError('too many 429 error responses'))",
      "\nDuring handling of the above exception, another exception occurred:\n",
      "\u001b[0;31mSpotifyException\u001b[0m                          Traceback (most recent call last)",
      "\u001b[1;32m/Users/selwynreuangrith/Desktop/lighthouse/projects/final-project/spotify_dataset.ipynb Cell 3\u001b[0m line \u001b[0;36m2\n\u001b[1;32m     <a href='vscode-notebook-cell:/Users/selwynreuangrith/Desktop/lighthouse/projects/final-project/spotify_dataset.ipynb#W5sZmlsZQ%3D%3D?line=24'>25</a>\u001b[0m playlist_genre \u001b[39m=\u001b[39m \u001b[39m'\u001b[39m\u001b[39mPop\u001b[39m\u001b[39m'\u001b[39m\n\u001b[1;32m     <a href='vscode-notebook-cell:/Users/selwynreuangrith/Desktop/lighthouse/projects/final-project/spotify_dataset.ipynb#W5sZmlsZQ%3D%3D?line=26'>27</a>\u001b[0m \u001b[39m# Get audio features for the track\u001b[39;00m\n\u001b[0;32m---> <a href='vscode-notebook-cell:/Users/selwynreuangrith/Desktop/lighthouse/projects/final-project/spotify_dataset.ipynb#W5sZmlsZQ%3D%3D?line=27'>28</a>\u001b[0m audio_features \u001b[39m=\u001b[39m get_audio_features(track_id)\n\u001b[1;32m     <a href='vscode-notebook-cell:/Users/selwynreuangrith/Desktop/lighthouse/projects/final-project/spotify_dataset.ipynb#W5sZmlsZQ%3D%3D?line=28'>29</a>\u001b[0m \u001b[39mif\u001b[39;00m audio_features:\n\u001b[1;32m     <a href='vscode-notebook-cell:/Users/selwynreuangrith/Desktop/lighthouse/projects/final-project/spotify_dataset.ipynb#W5sZmlsZQ%3D%3D?line=29'>30</a>\u001b[0m     danceability \u001b[39m=\u001b[39m audio_features[\u001b[39m'\u001b[39m\u001b[39mdanceability\u001b[39m\u001b[39m'\u001b[39m]\n",
      "\u001b[1;32m/Users/selwynreuangrith/Desktop/lighthouse/projects/final-project/spotify_dataset.ipynb Cell 3\u001b[0m line \u001b[0;36m1\n\u001b[1;32m     <a href='vscode-notebook-cell:/Users/selwynreuangrith/Desktop/lighthouse/projects/final-project/spotify_dataset.ipynb#W5sZmlsZQ%3D%3D?line=9'>10</a>\u001b[0m \u001b[39mdef\u001b[39;00m \u001b[39mget_audio_features\u001b[39m(track_id):\n\u001b[0;32m---> <a href='vscode-notebook-cell:/Users/selwynreuangrith/Desktop/lighthouse/projects/final-project/spotify_dataset.ipynb#W5sZmlsZQ%3D%3D?line=10'>11</a>\u001b[0m     audio_features \u001b[39m=\u001b[39m sp\u001b[39m.\u001b[39maudio_features(track_id)\n\u001b[1;32m     <a href='vscode-notebook-cell:/Users/selwynreuangrith/Desktop/lighthouse/projects/final-project/spotify_dataset.ipynb#W5sZmlsZQ%3D%3D?line=11'>12</a>\u001b[0m     \u001b[39mif\u001b[39;00m audio_features:\n\u001b[1;32m     <a href='vscode-notebook-cell:/Users/selwynreuangrith/Desktop/lighthouse/projects/final-project/spotify_dataset.ipynb#W5sZmlsZQ%3D%3D?line=12'>13</a>\u001b[0m         \u001b[39mreturn\u001b[39;00m audio_features[\u001b[39m0\u001b[39m]  \n",
      "File \u001b[0;32m~/anaconda3/lib/python3.11/site-packages/spotipy/client.py:1734\u001b[0m, in \u001b[0;36mSpotify.audio_features\u001b[0;34m(self, tracks)\u001b[0m\n\u001b[1;32m   1732\u001b[0m \u001b[39mif\u001b[39;00m \u001b[39misinstance\u001b[39m(tracks, \u001b[39mstr\u001b[39m):\n\u001b[1;32m   1733\u001b[0m     trackid \u001b[39m=\u001b[39m \u001b[39mself\u001b[39m\u001b[39m.\u001b[39m_get_id(\u001b[39m\"\u001b[39m\u001b[39mtrack\u001b[39m\u001b[39m\"\u001b[39m, tracks)\n\u001b[0;32m-> 1734\u001b[0m     results \u001b[39m=\u001b[39m \u001b[39mself\u001b[39m\u001b[39m.\u001b[39m_get(\u001b[39m\"\u001b[39m\u001b[39maudio-features/?ids=\u001b[39m\u001b[39m\"\u001b[39m \u001b[39m+\u001b[39m trackid)\n\u001b[1;32m   1735\u001b[0m \u001b[39melse\u001b[39;00m:\n\u001b[1;32m   1736\u001b[0m     tlist \u001b[39m=\u001b[39m [\u001b[39mself\u001b[39m\u001b[39m.\u001b[39m_get_id(\u001b[39m\"\u001b[39m\u001b[39mtrack\u001b[39m\u001b[39m\"\u001b[39m, t) \u001b[39mfor\u001b[39;00m t \u001b[39min\u001b[39;00m tracks]\n",
      "File \u001b[0;32m~/anaconda3/lib/python3.11/site-packages/spotipy/client.py:323\u001b[0m, in \u001b[0;36mSpotify._get\u001b[0;34m(self, url, args, payload, **kwargs)\u001b[0m\n\u001b[1;32m    320\u001b[0m \u001b[39mif\u001b[39;00m args:\n\u001b[1;32m    321\u001b[0m     kwargs\u001b[39m.\u001b[39mupdate(args)\n\u001b[0;32m--> 323\u001b[0m \u001b[39mreturn\u001b[39;00m \u001b[39mself\u001b[39m\u001b[39m.\u001b[39m_internal_call(\u001b[39m\"\u001b[39m\u001b[39mGET\u001b[39m\u001b[39m\"\u001b[39m, url, payload, kwargs)\n",
      "File \u001b[0;32m~/anaconda3/lib/python3.11/site-packages/spotipy/client.py:307\u001b[0m, in \u001b[0;36mSpotify._internal_call\u001b[0;34m(self, method, url, payload, params)\u001b[0m\n\u001b[1;32m    305\u001b[0m     \u001b[39mexcept\u001b[39;00m (\u001b[39mIndexError\u001b[39;00m, \u001b[39mAttributeError\u001b[39;00m):\n\u001b[1;32m    306\u001b[0m         reason \u001b[39m=\u001b[39m \u001b[39mNone\u001b[39;00m\n\u001b[0;32m--> 307\u001b[0m     \u001b[39mraise\u001b[39;00m SpotifyException(\n\u001b[1;32m    308\u001b[0m         \u001b[39m429\u001b[39m,\n\u001b[1;32m    309\u001b[0m         \u001b[39m-\u001b[39m\u001b[39m1\u001b[39m,\n\u001b[1;32m    310\u001b[0m         \u001b[39m\"\u001b[39m\u001b[39m%s\u001b[39;00m\u001b[39m:\u001b[39m\u001b[39m\\n\u001b[39;00m\u001b[39m \u001b[39m\u001b[39m%s\u001b[39;00m\u001b[39m\"\u001b[39m \u001b[39m%\u001b[39m (request\u001b[39m.\u001b[39mpath_url, \u001b[39m\"\u001b[39m\u001b[39mMax Retries\u001b[39m\u001b[39m\"\u001b[39m),\n\u001b[1;32m    311\u001b[0m         reason\u001b[39m=\u001b[39mreason\n\u001b[1;32m    312\u001b[0m     )\n\u001b[1;32m    313\u001b[0m \u001b[39mexcept\u001b[39;00m \u001b[39mValueError\u001b[39;00m:\n\u001b[1;32m    314\u001b[0m     results \u001b[39m=\u001b[39m \u001b[39mNone\u001b[39;00m\n",
      "\u001b[0;31mSpotifyException\u001b[0m: http status: 429, code:-1 - /v1/audio-features/?ids=0Lmbke3KNVFXtoH2mMSHCw:\n Max Retries, reason: too many 429 error responses"
     ]
    }
   ],
   "source": [
    "import pandas as pd\n",
    "import spotipy\n",
    "from spotipy.oauth2 import SpotifyClientCredentials\n",
    "\n",
    "# Initialize Spotipy client with your credentials\n",
    "client_credentials_manager = SpotifyClientCredentials(client_id='c7e4f36b99674158a7e12ec87a2653e8', client_secret='ceefc7a5b6e349d29629248832a46533')\n",
    "sp = spotipy.Spotify(client_credentials_manager=client_credentials_manager)\n",
    "\n",
    "# Define a function to get audio features for a track\n",
    "def get_audio_features(track_id):\n",
    "    audio_features = sp.audio_features(track_id)\n",
    "    if audio_features:\n",
    "        return audio_features[0]  \n",
    "    else:\n",
    "        return None\n",
    "\n",
    "# Example track ID\n",
    "track_id = 'spotify:track:0Lmbke3KNVFXtoH2mMSHCw'\n",
    "\n",
    "# Get track popularity\n",
    "track_info = sp.track(track_id)\n",
    "track_popularity = track_info['popularity']\n",
    "\n",
    "# Example playlist genre\n",
    "playlist_genre = 'Pop'\n",
    "\n",
    "# Get audio features for the track\n",
    "audio_features = get_audio_features(track_id)\n",
    "if audio_features:\n",
    "    danceability = audio_features['danceability']\n",
    "    energy = audio_features['energy']\n",
    "    speechiness = audio_features['speechiness']\n",
    "    valence = audio_features['valence']\n",
    "    tempo = audio_features['tempo']\n",
    "\n",
    "# Create a DataFrame with the extracted features\n",
    "data = {\n",
    "    'track_id': [track_id],\n",
    "    'track_popularity': [track_popularity],\n",
    "    'playlist_genre': [playlist_genre],\n",
    "    'danceability': [danceability],\n",
    "    'energy': [energy],\n",
    "    'speechiness': [speechiness], \n",
    "    'valence': [valence],\n",
    "    'tempo': [tempo]\n",
    "}\n",
    "df = pd.DataFrame(data)\n",
    "\n",
    "# Save the DataFrame to a CSV file\n",
    "df.to_csv('track_features.csv', index=False)\n",
    "\n",
    "print(\"Features saved to 'track_features.csv'\")"
   ]
  }
 ],
 "metadata": {
  "kernelspec": {
   "display_name": "test_env",
   "language": "python",
   "name": "test_env"
  },
  "language_info": {
   "codemirror_mode": {
    "name": "ipython",
    "version": 3
   },
   "file_extension": ".py",
   "mimetype": "text/x-python",
   "name": "python",
   "nbconvert_exporter": "python",
   "pygments_lexer": "ipython3",
   "version": "3.11.5"
  }
 },
 "nbformat": 4,
 "nbformat_minor": 2
}
