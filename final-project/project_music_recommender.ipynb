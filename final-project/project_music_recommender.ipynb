{
 "cells": [
  {
   "cell_type": "code",
   "execution_count": 1,
   "metadata": {},
   "outputs": [
    {
     "name": "stdout",
     "output_type": "stream",
     "text": [
      "Missing values:\n",
      "id                  0\n",
      "artist_names        0\n",
      "track_name          0\n",
      "source              0\n",
      "key                 0\n",
      "mode                0\n",
      "time_signature      0\n",
      "danceability        0\n",
      "energy              0\n",
      "speechiness         0\n",
      "acousticness        0\n",
      "instrumentalness    0\n",
      "liveness            0\n",
      "valence             0\n",
      "loudness            0\n",
      "tempo               0\n",
      "duration_ms         0\n",
      "weeks_on_chart      0\n",
      "streams             0\n",
      "dtype: int64\n",
      "\n",
      "Shape of DataFrame after removing missing values: (6513, 19)\n",
      "Shape of DataFrame before removing duplicates: (5501, 19)\n"
     ]
    }
   ],
   "source": [
    "import pandas as pd\n",
    "from sklearn.feature_extraction.text import TfidfVectorizer\n",
    "from sklearn.metrics.pairwise import linear_kernel\n",
    "\n",

    "try:\n",
    "    df = pd.read_csv('spotify_top_songs_audio_features.csv')\n",
    "except FileNotFoundError:\n",
    "    print(\"Error: File not found.\")\n",
   
    "\n",
    "# Preprocessing the data\n",
    "\n",
    "# Removing Missing Values\n",
    "missing_values = df.isnull().sum()\n",
    "print(\"Missing values:\")\n",
    "print(missing_values)\n",
    "\n",
    "df.dropna(inplace=True)\n",
    "\n",
    "print(\"\\nShape of DataFrame after removing missing values:\", df.shape)\n",
    "\n",
    "# Removing Duplicates\n",
    "df.drop_duplicates(subset=['track_name', 'artist_names'], keep='first', inplace=True)\n",
    "\n",
    "print(\"Shape of DataFrame before removing duplicates:\", df.shape)"
   ]
  },
  {
   "cell_type": "code",
   "execution_count": 2,
   "metadata": {},
   "outputs": [],
   "source": [
    "# TF-IDF Matrix\n",
    "selected_features = ['danceability', 'speechiness', 'valence', 'tempo', 'weeks_on_chart', 'streams']\n",
    "df['combined_features'] = df[selected_features].astype(str).apply(' '.join, axis=1)\n",
    "tfidf_vectorizer = TfidfVectorizer()\n",
    "tfidf_matrix = tfidf_vectorizer.fit_transform(df['combined_features'].values.astype('U'))\n",
    "\n",
    "# Cosine Similarity Matrix\n",
    "cosine_sim = linear_kernel(tfidf_matrix, tfidf_matrix)\n"
   ]
  },
  {
   "cell_type": "code",
   "execution_count": 3,
   "metadata": {},
   "outputs": [
    {
     "name": "stdout",
     "output_type": "stream",
     "text": [
      "1. Blah Blah Blah by Armin van Buuren, Similarity Score: 0.26\n",
      "2. Am I Dreaming (Metro Boomin & A$AP Rocky, Roisee) by Metro Boomin, A$AP Rocky, Roisee, Similarity Score: 0.18\n",
      "3. Hasta el Amanecer by Nicky Jam, Similarity Score: 0.18\n",
      "4. Magic In The Hamptons (feat. Lil Yachty) by Social House, Lil Yachty, Similarity Score: 0.18\n",
      "5. Told You So by Paramore, Similarity Score: 0.17\n",
      "6. Sharing Locations (feat. Lil Baby & Lil Durk) by Meek Mill, Lil Durk, Lil Baby, Similarity Score: 0.17\n",
      "7. I.F.L.Y. by Bazzi, Similarity Score: 0.17\n",
      "8. Rudolph The Red-Nosed Reindeer by Burl Ives, Similarity Score: 0.17\n",
      "9. Freak by Doja Cat, Similarity Score: 0.17\n",
      "10. A Different Way (with Lauv) by DJ Snake, Lauv, Similarity Score: 0.17\n",
      "1. GOTTI by 6ix9ine, Average Similarity Score: 0.19\n",
      "2. ON OFF (feat. Maître Gims) by Shirin David, GIMS, Average Similarity Score: 0.19\n",
      "3. Quit (feat. Ariana Grande) by Cashmere Cat, Ariana Grande, Average Similarity Score: 0.18\n",
      "4. Hurt You by The Weeknd, Gesaffelstein, Average Similarity Score: 0.18\n",
      "5. Insane by Post Malone, Average Similarity Score: 0.17\n",
      "6. La Bebe by Yng Lvcas, Average Similarity Score: 0.17\n",
      "7. Burning by Sam Smith, Average Similarity Score: 0.17\n",
      "8. Tempo by EXO, Average Similarity Score: 0.17\n",
      "9. Karaoke by Boomdabash, Alessandra Amoroso, Average Similarity Score: 0.17\n",
      "10. Audio (feat. Sia, Diplo, and Labrinth) by Sia, Diplo, Labrinth, LSD, Average Similarity Score: 0.17\n"
     ]
    }
   ],
   "source": [
    "# Music Recommender\n",
    "def recommend_music(title=None, artist=None, num_recommendations=10, cosine_sim=cosine_sim):\n",
    "    if title is None and artist is None:\n",
    "        return \"Please provide either the track name, the artist name, or both.\"\n",
    "    \n",
    "    if title is not None and artist is not None:\n",
    "        # Recommend based on both track and artist\n",
    "        mask = (df['track_name'] == title) & (df['artist_names'] == artist)\n",
    "    elif title is None and artist is not None:\n",
    "        # Recommend based on artist alone\n",
    "        mask = df['artist_names'] == artist\n",
    "    else:\n",
    "        # Recommend based on track alone\n",
    "        mask = df['track_name'] == title\n",
    "\n",
    "    if not mask.any():\n",
    "        return \"Track or artist not found in the dataset.\"\n",
    "\n",
    "    idx = df[mask].index\n",
    "    if len(idx) == 0:\n",
    "        return \"Track or artist not found in the dataset.\"\n",
    "\n",
    "    idx = idx[0]  # Get the first index if multiple matches found\n",
    "    if idx >= len(cosine_sim):\n",
    "        return \"Index out of bounds.\"\n",
    "\n",
    "    sim_scores = list(enumerate(cosine_sim[idx]))\n",
    "    sim_scores = sorted(sim_scores, key=lambda x: x[1], reverse=True)\n",
    "    sim_scores = sim_scores[1:num_recommendations+1]\n",
    "\n",
    "    # Filter Out-of-Bounds Indices\n",
    "    valid_indices = [i[0] for i in sim_scores if i[0] < len(df)]\n",
    "    recommended_tracks = df.iloc[valid_indices]['track_name']\n",
    "    recommended_artists = df.iloc[valid_indices]['artist_names']\n",
    "    similarity_scores = [i[1] for i in sim_scores if i[0] < len(df)]\n",
    "    return list(zip(recommended_tracks, recommended_artists, similarity_scores))\n",
    "\n",
    "# Test (for both track and artist)\n",
    "recommended_music = recommend_music(title='IDOL', artist='BTS', num_recommendations=10)\n",
    "if isinstance(recommended_music, str):\n",
    "    print(recommended_music)\n",
    "else:\n",
    "    for i, (track, artist, score) in enumerate(recommended_music, 1):\n",
    "        print(f\"{i}. {track} by {artist}, Similarity Score: {score:.2f}\")\n",
    "\n",
    "# Test (for just the artist)\n",
    "recommended_music = recommend_music(artist='BTS', num_recommendations=10)\n",
    "if isinstance(recommended_music, str):\n",
    "    print(recommended_music)\n",
    "else:\n",
    "    for i, (track, artist, score) in enumerate(recommended_music, 1):\n",
    "        print(f\"{i}. {track} by {artist}, Average Similarity Score: {score:.2f}\")"
   ]
  },
  {
   "cell_type": "code",
   "execution_count": 4,
   "metadata": {},
   "outputs": [
    {
     "name": "stdout",
     "output_type": "stream",
     "text": [
      "1. Best Of Me by BTS, Average Similarity Score: 0.24\n",
      "2. America by Logic, Black Thought, Chuck D, Big Lenbo, No ID, Average Similarity Score: 0.17\n",
      "3. Over The Top (feat. Drake) by Smiley, Drake, Average Similarity Score: 0.17\n",
      "4. Nummer 1 by Capital Bra, Samra, Average Similarity Score: 0.16\n",
      "5. POPOPOP by Gambi, Average Similarity Score: 0.16\n",
      "6. Danger (Spider) (Offset & JID) by Offset, JID, Average Similarity Score: 0.16\n",
      "7. Angst by Loredana, Rymez, Average Similarity Score: 0.16\n",
      "8. La_Original.mp3 by Emilia, TINI, Average Similarity Score: 0.16\n",
      "9. Remember (with David Guetta) by Becky Hill, David Guetta, Average Similarity Score: 0.16\n",
      "10. The Heart Part 5 by Kendrick Lamar, Average Similarity Score: 0.16\n"
     ]
    }
   ],
   "source": [
    "recommended_music = recommend_music(artist='Ariana Grande', num_recommendations=10)\n",
    "if isinstance(recommended_music, str):\n",
    "    print(recommended_music)\n",
    "else:\n",
    "    for i, (track, artist, score) in enumerate(recommended_music, 1):\n",
    "        print(f\"{i}. {track} by {artist}, Average Similarity Score: {score:.2f}\")"
   ]
  },
  {
   "cell_type": "code",
   "execution_count": 5,
   "metadata": {},
   "outputs": [
    {
     "name": "stdout",
     "output_type": "stream",
     "text": [
      "1. Parce (feat. Justin Quiles) by Maluma, Lenny Tavárez, Justin Quiles, Similarity Score: 0.24\n",
      "2. Lonely (with Jonas Brothers) by Diplo, Jonas Brothers, Similarity Score: 0.21\n",
      "3. Gatita by Bellakath, Similarity Score: 0.20\n",
      "4. Light by San Holo, Similarity Score: 0.19\n",
      "5. You Are In Love (Taylor's Version) by Taylor Swift, Similarity Score: 0.19\n",
      "6. Deu Onda by MC G15, Similarity Score: 0.19\n",
      "7. Before You Go by Lewis Capaldi, Similarity Score: 0.19\n",
      "8. LOYALTY. FEAT. RIHANNA. by Kendrick Lamar, Rihanna, Similarity Score: 0.18\n",
      "9. Ella - Remix by Boza, Lunay, Lenny Tavárez, Juhn, Beéle, Similarity Score: 0.16\n",
      "10. Big Body Benz by Bonez MC, Similarity Score: 0.16\n"
     ]
    }
   ],
   "source": [
    "recommended_music = recommend_music(artist='BLACKPINK', num_recommendations=10)\n",
    "if isinstance(recommended_music, str):\n",
    "    print(recommended_music)\n",
    "else:\n",
    "    for i, (track, artist, score) in enumerate(recommended_music, 1):\n",
    "        print(f\"{i}. {track} by {artist}, Similarity Score: {score:.2f}\")"
   ]
  },
  {
   "cell_type": "code",
   "execution_count": 6,
   "metadata": {},
   "outputs": [
    {
     "name": "stdout",
     "output_type": "stream",
     "text": [
      "1. Younger Now by Miley Cyrus, Similarity Score: 0.22\n",
      "2. You & Me by JENNIE, Similarity Score: 0.22\n",
      "3. Signs by Drake, Similarity Score: 0.20\n",
      "4. B.S. (feat. H.E.R.) by Jhené Aiko, H.E.R., Similarity Score: 0.17\n",
      "5. IGOR'S THEME by Tyler, The Creator, Similarity Score: 0.17\n",
      "6. GIVENCHY by Duki, Similarity Score: 0.17\n",
      "7. Tesla (feat. Sfera Ebbasta & DrefGold) by Capo Plaza, Sfera Ebbasta, DrefGold, Similarity Score: 0.16\n",
      "8. Mood Ring by Lorde, Similarity Score: 0.16\n",
      "9. Overtime by Zach Bryan, Similarity Score: 0.16\n",
      "10. Jiwa Yang Bersedih by Ghea Indrawari, Similarity Score: 0.16\n"
     ]
    }
   ],
   "source": [
    "recommended_music = recommend_music(title='Peaches (feat. Daniel Caesar & Giveon)', artist='Justin Bieber, Daniel Caesar, Giveon', num_recommendations=10)\n",
    "if isinstance(recommended_music, str):\n",
    "    print(recommended_music)\n",
    "else:\n",
    "    for i, (track, artist, score) in enumerate(recommended_music, 1):\n",
    "        print(f\"{i}. {track} by {artist}, Similarity Score: {score:.2f}\")"
   ]
  },
  {
   "cell_type": "code",
   "execution_count": 9,
   "metadata": {
    "tags": []
   },
   "outputs": [
    {
     "name": "stdin",
     "output_type": "stream",
     "text": [
      "Enter the track name (or press Enter to skip):  IDOL\n",
      "Enter the artist name (or press Enter to skip):  BTS\n"
     ]
    },
    {
     "name": "stdout",
     "output_type": "stream",
     "text": [
      "1. Blah Blah Blah by Armin van Buuren, Similarity Score: 0.26\n",
      "2. Am I Dreaming (Metro Boomin & A$AP Rocky, Roisee) by Metro Boomin, A$AP Rocky, Roisee, Similarity Score: 0.18\n",
      "3. Hasta el Amanecer by Nicky Jam, Similarity Score: 0.18\n",
      "4. Magic In The Hamptons (feat. Lil Yachty) by Social House, Lil Yachty, Similarity Score: 0.18\n",
      "5. Told You So by Paramore, Similarity Score: 0.17\n",
      "6. Sharing Locations (feat. Lil Baby & Lil Durk) by Meek Mill, Lil Durk, Lil Baby, Similarity Score: 0.17\n",
      "7. I.F.L.Y. by Bazzi, Similarity Score: 0.17\n",
      "8. Rudolph The Red-Nosed Reindeer by Burl Ives, Similarity Score: 0.17\n",
      "9. Freak by Doja Cat, Similarity Score: 0.17\n",
      "10. A Different Way (with Lauv) by DJ Snake, Lauv, Similarity Score: 0.17\n"
     ]
    }
   ],
   "source": [
    "def get_user_input():\n",
    "    title = input(\"Enter the track name (or press Enter to skip): \").strip()\n",
    "    artist = input(\"Enter the artist name (or press Enter to skip): \").strip()\n",
    "    return title, artist\n",
    "\n",
    "def recommend_music_from_input(num_recommendations=10, cosine_sim=cosine_sim):\n",
    "    title, artist = get_user_input()\n",
    "\n",
    "    if not title and not artist:\n",
    "        print(\"Please provide either the track name, the artist name, or both.\")\n",
    "        return\n",
    "\n",
    "    recommended_music = recommend_music(title=title, artist=artist, num_recommendations=num_recommendations, cosine_sim=cosine_sim)\n",
    "    if isinstance(recommended_music, str):\n",
    "        print(recommended_music)\n",
    "    else:\n",
    "        if not recommended_music:\n",
    "            print(\"No recommendations found.\")\n",
    "            return\n",
    "        for i, (track, artist, score) in enumerate(recommended_music, 1):\n",
    "            print(f\"{i}. {track} by {artist}, Similarity Score: {score:.2f}\")\n",
    "\n",
    "# Test\n",
    "recommend_music_from_input(num_recommendations=10)"
   ]
  },
  {
   "cell_type": "code",
   "execution_count": 11,
   "metadata": {
    "tags": []
   },
   "outputs": [
    {
     "name": "stdin",
     "output_type": "stream",
     "text": [
      "Enter the track name (or press Enter to skip):  enough for you\n",
      "Enter the artist name (or press Enter to skip):  Olivia Rodrigo\n"
     ]
    },
    {
     "name": "stdout",
     "output_type": "stream",
     "text": [
      "1. Owe Me by Big Sean, Similarity Score: 0.18\n",
      "2. Lost In Japan by Shawn Mendes, Similarity Score: 0.17\n",
      "3. Escape From LA by The Weeknd, Similarity Score: 0.17\n",
      "4. Empty Space by James Arthur, Similarity Score: 0.17\n",
      "5. United In Grief by Kendrick Lamar, Similarity Score: 0.17\n",
      "6. What's Free (feat. Rick Ross & Jay Z) by Meek Mill, JAY-Z, Rick Ross, Similarity Score: 0.17\n",
      "7. Mios mit Bars by Luciano, Similarity Score: 0.17\n",
      "8. a p p l y i n g . p r e s s u r e by J. Cole, Similarity Score: 0.16\n",
      "9. p u n c h i n ‘ . t h e . c l o c k by J. Cole, Similarity Score: 0.16\n",
      "10. Matt Hardy 999 by Trippie Redd, Juice WRLD, Similarity Score: 0.16\n"
     ]
    }
   ],
   "source": [
    "recommend_music_from_input(num_recommendations=10)\n"
   ]
  },
  {
   "cell_type": "code",
   "execution_count": 12,
   "metadata": {
    "tags": []
   },
   "outputs": [
    {
     "name": "stdin",
     "output_type": "stream",
     "text": [
      "Enter the track name (or press Enter to skip):  ON\n",
      "Enter the artist name (or press Enter to skip):  BTS\n"
     ]
    },
    {
     "name": "stdout",
     "output_type": "stream",
     "text": [
      "1. Oh Juliana by Niack, Similarity Score: 0.23\n",
      "2. Bandido by Zé Felipe, MC Mari, Similarity Score: 0.22\n",
      "3. Bad Reputation (feat. Joe Janiak) by Avicii, Joe Janiak, Similarity Score: 0.21\n",
      "4. Mbappe by Eladio Carrion, Similarity Score: 0.21\n",
      "5. Dark Horse by Katy Perry, Juicy J, Similarity Score: 0.21\n",
      "6. Confessions of a Dangerous Mind by Logic, Similarity Score: 0.17\n",
      "7. March 14 by Drake, Similarity Score: 0.16\n",
      "8. INTERNATIONAL GANGSTAS by Farid Bang, CAPO, 6ix9ine, SCH, Similarity Score: 0.15\n",
      "9. Shining (feat. Beyoncé & Jay-Z) by DJ Khaled, Beyoncé, JAY-Z, Similarity Score: 0.15\n",
      "10. DJ Got Us Fallin' In Love (feat. Pitbull) by USHER, Pitbull, Similarity Score: 0.15\n"
     ]
    },
    {
     "name": "stdin",
     "output_type": "stream",
     "text": [
      "Enter the track name (or press Enter to skip):  Dark Horse\n",
      "Enter the artist name (or press Enter to skip):  Katy Perry, Juicy J\n"
     ]
    },
    {
     "name": "stdout",
     "output_type": "stream",
     "text": [
      "1. Ring (feat. Kehlani) by Cardi B, Kehlani, Similarity Score: 0.28\n",
      "2. blazed (feat. Pharrell Williams) by Ariana Grande, Pharrell Williams, Similarity Score: 0.21\n",
      "3. In The Stars by Benson Boone, Similarity Score: 0.21\n",
      "4. RUNNING OUT OF TIME by Tyler, The Creator, Similarity Score: 0.21\n",
      "5. Rich Baby Daddy (feat. Sexyy Red & SZA) by Drake, Sexyy Red, SZA, Similarity Score: 0.21\n",
      "6. Into You by Ariana Grande, Similarity Score: 0.21\n",
      "7. xanny by Billie Eilish, Similarity Score: 0.20\n",
      "8. Louder than bombs by BTS, Similarity Score: 0.16\n",
      "9. VULTURES by ¥$, Kanye West, Ty Dolla $ign, Similarity Score: 0.16\n",
      "10. KEYS TO MY LIFE by ¥$, Kanye West, Ty Dolla $ign, Similarity Score: 0.16\n"
     ]
    },
    {
     "name": "stdin",
     "output_type": "stream",
     "text": [
      "Enter the track name (or press Enter to skip):  Into You\n",
      "Enter the artist name (or press Enter to skip):  Ariana Grande\n"
     ]
    },
    {
     "name": "stdout",
     "output_type": "stream",
     "text": [
      "Index out of bounds.\n"
     ]
    },
    {
     "name": "stdin",
     "output_type": "stream",
     "text": [
      "Enter the track name (or press Enter to skip):  Louder than bombs\n",
      "Enter the artist name (or press Enter to skip):  BTS\n"
     ]
    },
    {
     "name": "stdout",
     "output_type": "stream",
     "text": [
      "1. Some Kind Of Drug (feat. Marc E. Bassy) by G-Eazy, Marc E. Bassy, Similarity Score: 0.25\n",
      "2. Nummer unterdrückt by Bonez MC, RAF Camora, Similarity Score: 0.21\n",
      "3. IDOL by BTS, Nicki Minaj, Similarity Score: 0.21\n",
      "4. High Infidelity by Taylor Swift, Similarity Score: 0.21\n",
      "5. China by Anuel AA, Daddy Yankee, KAROL G, Ozuna, J Balvin, Similarity Score: 0.20\n",
      "6. Zero - From the Original Motion Picture \"Ralph Breaks The Internet\" by Imagine Dragons, Similarity Score: 0.17\n",
      "7. AP - Music from the film Boogie by Pop Smoke, Similarity Score: 0.17\n",
      "8. Tommy Lee (feat. Post Malone) by Tyla Yaweh, Post Malone, Similarity Score: 0.17\n",
      "9. Tragic Endings (feat. Skylar Grey) by Eminem, Skylar Grey, Similarity Score: 0.17\n",
      "10. This Christmas by Donny Hathaway, Similarity Score: 0.16\n"
     ]
    },
    {
     "name": "stdin",
     "output_type": "stream",
     "text": [
      "Enter the track name (or press Enter to skip):  DDU-DU DDU-DU\n",
      "Enter the artist name (or press Enter to skip):  BLACKPINK\n"
     ]
    },
    {
     "name": "stdout",
     "output_type": "stream",
     "text": [
      "1. Nicht verdient by Capital Bra, Loredana, Similarity Score: 0.32\n",
      "2. Parasite Eve by Bring Me The Horizon, Similarity Score: 0.19\n",
      "3. Astronauts by Future, Juice WRLD, Similarity Score: 0.19\n",
      "4. Perfect Strangers by Lil Wayne, Similarity Score: 0.18\n",
      "5. UFF by Veysel, Gzuz, Similarity Score: 0.18\n",
      "6. Alarm by Anne-Marie, Similarity Score: 0.18\n",
      "7. Top Off (feat. JAY Z, Future & Beyoncé) by DJ Khaled, JAY-Z, Future, Beyoncé, Similarity Score: 0.18\n",
      "8. Sad Beautiful Tragic (Taylor's Version) by Taylor Swift, Similarity Score: 0.18\n",
      "9. The Business by Tiësto, Similarity Score: 0.17\n",
      "10. Boyfriend by Dove Cameron, Similarity Score: 0.17\n"
     ]
    }
   ],
   "source": [
    "recommend_music_from_input(num_recommendations=10)\n",
    "\n",
    "recommend_music_from_input(num_recommendations=10)\n",
    "\n",
    "recommend_music_from_input(num_recommendations=10)\n",
    "\n",
    "recommend_music_from_input(num_recommendations=10)\n",
    "\n",
    "recommend_music_from_input(num_recommendations=10)"
   ]
  },
  {
   "cell_type": "code",
   "execution_count": null,
   "metadata": {},
   "outputs": [],
   "source": []
  }
 ],
 "metadata": {
  "kernelspec": {
   "display_name": "test_env",
   "language": "python",
   "name": "test_env"
  },
  "language_info": {
   "codemirror_mode": {
    "name": "ipython",
    "version": 3
   },
   "file_extension": ".py",
   "mimetype": "text/x-python",
   "name": "python",
   "nbconvert_exporter": "python",
   "pygments_lexer": "ipython3",
   "version": "3.11.5"
  }
 },
 "nbformat": 4,
 "nbformat_minor": 4
}
